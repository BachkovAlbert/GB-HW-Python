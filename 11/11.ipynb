{
  "nbformat": 4,
  "nbformat_minor": 0,
  "metadata": {
    "colab": {
      "provenance": [],
      "collapsed_sections": []
    },
    "kernelspec": {
      "name": "python3",
      "display_name": "Python 3"
    },
    "language_info": {
      "name": "python"
    }
  },
  "cells": [
    {
      "cell_type": "markdown",
      "source": [
        "## Задание для 11 семинара."
      ],
      "metadata": {
        "id": "gl9oofPdwXG1"
      }
    },
    {
      "cell_type": "markdown",
      "source": [
        "f(x) = -12x^4*sin(cos(x)) - 18x^3+5x^2 + 10x - 30\n",
        "\n",
        "1.   Определить корни\n",
        "2.   Найти интервалы, на которых функция возрастает\n",
        "1.   Найти интервалы, на которых функция убывает\n",
        "2.   Построить график\n",
        "1.   Вычислить вершину\n",
        "2.   Определить промежутки, на котором f > 0\n",
        "2.   Определить промежутки, на котором f < 0\n",
        "\n",
        "\n",
        "\n",
        "\n",
        "\n",
        "\n",
        "\n",
        "\n",
        "\n",
        "\n",
        "\n",
        "\n",
        "\n",
        "\n"
      ],
      "metadata": {
        "id": "xGPmQdsOzEwZ"
      }
    },
    {
      "cell_type": "code",
      "source": [
        "from sympy import *\n",
        "from sympy.abc import x\n",
        "import matplotlib.pyplot as plt"
      ],
      "metadata": {
        "id": "T5N-7mzszNHR"
      },
      "execution_count": 143,
      "outputs": []
    },
    {
      "cell_type": "markdown",
      "source": [
        "Выбираем интервал с точностью, и далее используем их для решения условий задачи, т.к. у данной функции интервалы - бесконечность.\n",
        "*   интервал взят от -50 до 50 с точностью 100\n",
        "*   интервал и точность изменяемые.\n",
        "\n",
        "\n"
      ],
      "metadata": {
        "id": "5LldvzV819kL"
      }
    },
    {
      "cell_type": "code",
      "source": [
        "expr = -12*(x**4)*sin(cos(x))-18*x**3+5*x**2+10*x-30\n",
        "precision = 100\n",
        "start = -50\n",
        "end = 50\n",
        "\n",
        "xs = [x/precision for x in range(start*precision, end*precision + 1)]\n",
        "ys = [expr.subs(x, value) for value in xs]\n",
        "points = list(zip(xs, ys))"
      ],
      "metadata": {
        "id": "aFaABO-j2LJ1"
      },
      "execution_count": 144,
      "outputs": []
    },
    {
      "cell_type": "markdown",
      "source": [
        "Выполняем 1 условие задачи - Определить корни.\n",
        "*   но находится что-то другое ☹💢\n",
        "\n"
      ],
      "metadata": {
        "id": "rutAwqbT2goC"
      }
    },
    {
      "cell_type": "code",
      "source": [
        "solveset(-12*(x**4)*sin(cos(x))-18*x**3+5*x**2+10*x-30, x, domain=Reals)"
      ],
      "metadata": {
        "colab": {
          "base_uri": "https://localhost:8080/",
          "height": 38
        },
        "id": "DyCsOG9p1Sfl",
        "outputId": "f21f5735-c2ef-44a4-9566-9704c1c27d88"
      },
      "execution_count": 145,
      "outputs": [
        {
          "output_type": "execute_result",
          "data": {
            "text/plain": [
              "ConditionSet(x, Eq(-12*x**4*sin(cos(x)) - 18*x**3 + 5*x**2 + 10*x - 30, 0), Reals)"
            ],
            "text/latex": "$\\displaystyle \\left\\{x \\mid x \\in \\mathbb{R} \\wedge - 12 x^{4} \\sin{\\left(\\cos{\\left(x \\right)} \\right)} - 18 x^{3} + 5 x^{2} + 10 x - 30 = 0 \\right\\}$"
          },
          "metadata": {},
          "execution_count": 145
        }
      ]
    },
    {
      "cell_type": "markdown",
      "source": [
        "Выполняем 2 и 3 условия задачи - Нахождение интервалов, где функция убывает и возрастает."
      ],
      "metadata": {
        "id": "XWv7tWA53UvB"
      }
    },
    {
      "cell_type": "code",
      "source": [
        "points = list(zip(xs, ys))\n",
        "increasing, decreasing = [], []\n",
        "flag_increase = True\n",
        "while len(points) >= 2:\n",
        "    counter = 0\n",
        "    if flag_increase:\n",
        "        while points[counter][0] < end and points[counter + 1][1] > points[counter][1]:\n",
        "            counter += 1\n",
        "        if counter != 0:\n",
        "            increasing.append([points[0][0], points[counter][0]])\n",
        "        flag_increase = False\n",
        "    else:\n",
        "        while points[counter][0] < end and points[counter + 1][1] < points[counter][1]:\n",
        "            counter += 1\n",
        "        if counter != 0:\n",
        "            decreasing.append([points[0][0], points[counter][0]])\n",
        "        flag_increase = True\n",
        "    del points[:counter]\n",
        "\n",
        "print(\"Интервалы возрастания:\")\n",
        "print(*increasing)\n",
        "print(\"Интервалы убывания:\")\n",
        "print(*decreasing)\n"
      ],
      "metadata": {
        "colab": {
          "base_uri": "https://localhost:8080/"
        },
        "id": "q9viQzgT3lVW",
        "outputId": "59783e8d-b05c-497f-8b0a-e5f566977cbd"
      },
      "execution_count": 146,
      "outputs": [
        {
          "output_type": "stream",
          "name": "stdout",
          "text": [
            "Интервалы возрастания:\n",
            "[-50.0, -47.26] [-44.12, -40.99] [-37.85, -34.74] [-31.6, -28.49] [-25.35, -22.27] [-19.13, -16.08] [-12.94, -9.98] [-6.83, -4.17] [-0.39, 0.45] [1.7, 3.82] [7.0, 9.88] [13.01, 16.03] [19.17, 22.24] [25.38, 28.48] [31.61, 34.73] [37.87, 40.98] [44.13, 47.25]\n",
            "Интервалы убывания:\n",
            "[-47.26, -44.12] [-40.99, -37.85] [-34.74, -31.6] [-28.49, -25.35] [-22.27, -19.13] [-16.08, -12.94] [-9.98, -6.83] [-4.17, -0.39] [0.45, 1.7] [3.82, 7.0] [9.88, 13.01] [16.03, 19.17] [22.24, 25.38] [28.48, 31.61] [34.73, 37.87] [40.98, 44.13] [47.25, 50.0]\n"
          ]
        }
      ]
    },
    {
      "cell_type": "markdown",
      "source": [
        "Выполняем 4 условие задачи - Построить график.  "
      ],
      "metadata": {
        "id": "F-aSapKd7W56"
      }
    },
    {
      "cell_type": "code",
      "source": [
        "x = [-12*x**4*sin(cos(x))-18*x**3+5*x**2+10*x-30 for x in range(-50, 50)]\n",
        "y = [y for y in range(-50, 50)]\n",
        "plt.plot(y, x, 'g')\n",
        "plt.show()"
      ],
      "metadata": {
        "colab": {
          "base_uri": "https://localhost:8080/",
          "height": 276
        },
        "id": "77Ehsn5y7nUK",
        "outputId": "d7d26885-2dd9-4daf-c932-a9993e4ccbd2"
      },
      "execution_count": 147,
      "outputs": [
        {
          "output_type": "display_data",
          "data": {
            "text/plain": [
              "<Figure size 432x288 with 1 Axes>"
            ],
            "image/png": "[encoded data removed]"
          },
          "metadata": {
            "needs_background": "light"
          }
        }
      ]
    },
    {
      "cell_type": "markdown",
      "source": [
        "Выполняем 5 условие задачи - Вычислить вершину.  \n"
      ],
      "metadata": {
        "id": "huG_jAE18PJP"
      }
    },
    {
      "cell_type": "code",
      "source": [
        "points = list(zip(xs, ys))\n",
        "extrema = []\n",
        "flag_incr = True\n",
        "prior = points[0]\n",
        "count = 0\n",
        "for current in points[1:]:\n",
        "    if (flag_incr and prior[1] > current[1]) or (not flag_incr and prior[1] < current[1]):\n",
        "        prior = current\n",
        "        continue\n",
        "    else:\n",
        "        extrema.append(prior)\n",
        "        prior = current\n",
        "        flag_incr = not flag_incr    \n",
        "    count +=1 \n",
        "\n",
        "print(f'~Вершины(найдено {count}):')\n",
        "print(*extrema)"
      ],
      "metadata": {
        "colab": {
          "base_uri": "https://localhost:8080/"
        },
        "id": "h5lIA__S8u_L",
        "outputId": "8b462d91-fe3a-4705-e7d3-03c2caafd208"
      },
      "execution_count": 148,
      "outputs": [
        {
          "output_type": "stream",
          "name": "stdout",
          "text": [
            "~Вершины(найдено 34):\n",
            "(-50.0, -59390247.8989142) (-47.26, 51982079.1923933) (-44.12, -36472115.4824706) (-40.99, 29547991.2736265) (-37.85, -19589163.6704127) (-34.74, 15309045.7075205) (-31.6, -9385314.75859711) (-28.49, 6971839.39794664) (-25.35, -3809716.06844547) (-22.27, 2621306.90006970) (-19.13, -1189754.32877340) (-16.08, 719825.604914624) (-12.94, -230227.659390767) (-9.98, 107677.979885801) (-6.83, -13820.5103804871) (-4.17, 3111.34748026531) (-0.39, -32.2934502471160) (0.45, -26.5133423096216) (1.7, -74.1062343439542) (3.82, 872.254954283837) (7.0, -25610.4912765752) (9.88, 72634.2724507631) (13.01, -308671.572492007) (16.03, 571129.592376197) (19.17, -1442156.06243368) (22.24, 2224990.51810836) (25.38, -4396822.35816420) (28.48, 6140383.71420007) (31.61, -10521289.5957027) (34.73, 13801346.3697034) (37.87, -21541971.0065093) (40.98, 27069484.4154352) (44.13, -39563027.3571410) (47.25, 48184671.6685169)\n"
          ]
        }
      ]
    },
    {
      "cell_type": "markdown",
      "source": [
        "Выполняем 6 и 7 условия задачи - Определение промежуток, на которых f > 0 и f < 0\n"
      ],
      "metadata": {
        "id": "3WAH__uP9UE4"
      }
    },
    {
      "cell_type": "code",
      "source": [
        "points = list(zip(xs, ys))\n",
        "above, below = [], []\n",
        "flag_increase = False\n",
        "while len(points) >= 2:\n",
        "    counter = 0\n",
        "    if flag_increase:\n",
        "        while points[counter][0] < end and points[counter][1] > 0:\n",
        "            counter += 1\n",
        "        if counter != 0:\n",
        "            above.append([points[0][0], points[counter - 2][0]])\n",
        "        flag_increase = False\n",
        "    else:\n",
        "        while points[counter][0] < end and points[counter][1] < 0:\n",
        "            counter += 1\n",
        "        if counter != 0:\n",
        "            below.append([points[0][0], points[counter - 2][0]])\n",
        "        flag_increase = True\n",
        "    del points[:counter]\n",
        "\n",
        "print(\"Интервалы, на котором f > 0:\")\n",
        "print(*above)\n",
        "print(\"Интервалы, на котором f < 0:\")\n",
        "print(*below)"
      ],
      "metadata": {
        "colab": {
          "base_uri": "https://localhost:8080/"
        },
        "id": "8xgA6K-V9me3",
        "outputId": "dd8f4923-b11c-4b74-a5fe-a5467e793078"
      },
      "execution_count": 149,
      "outputs": [
        {
          "output_type": "stream",
          "name": "stdout",
          "text": [
            "Интервалы, на котором f > 0:\n",
            "[-48.72, -45.53] [-42.44, -39.25] [-36.17, -32.96] [-29.89, -26.66] [-23.62, -20.36] [-17.36, -14.04] [-11.13, -7.67] [-5.02, -1.35] [2.28, 4.37] [8.04, 10.85] [14.25, 17.18] [20.5, 23.48] [26.76, 29.78] [33.04, 36.07] [39.31, 42.36] [45.59, 48.65]\n",
            "Интервалы, на котором f < 0:\n",
            "[-50.0, -48.74] [-45.51, -42.46] [-39.23, -36.19] [-32.94, -29.91] [-26.64, -23.64] [-20.34, -17.38] [-14.02, -11.15] [-7.65, -5.04] [-1.33, 2.26] [4.39, 8.02] [10.87, 14.23] [17.2, 20.48] [23.5, 26.74] [29.8, 33.02] [36.09, 39.29] [42.38, 45.57] [48.67, 49.98]\n"
          ]
        }
      ]
    }
  ]
}